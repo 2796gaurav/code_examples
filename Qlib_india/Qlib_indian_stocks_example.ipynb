{
  "nbformat": 4,
  "nbformat_minor": 0,
  "metadata": {
    "colab": {
      "name": "Qlib indian stocks example",
      "provenance": [],
      "collapsed_sections": [],
      "authorship_tag": "ABX9TyPAw3CXIr+wVSDkKNBDVoxI",
      "include_colab_link": true
    },
    "kernelspec": {
      "name": "python3",
      "display_name": "Python 3"
    },
    "language_info": {
      "name": "python"
    }
  },
  "cells": [
    {
      "cell_type": "markdown",
      "metadata": {
        "id": "view-in-github",
        "colab_type": "text"
      },
      "source": [
        "<a href=\"https://colab.research.google.com/github/2796gaurav/code_examples/blob/main/Qlib_india/Qlib_indian_stocks_example.ipynb\" target=\"_parent\"><img src=\"https://colab.research.google.com/assets/colab-badge.svg\" alt=\"Open In Colab\"/></a>"
      ]
    },
    {
      "cell_type": "markdown",
      "metadata": {
        "id": "uqjxdGdc3Lt9"
      },
      "source": [
        "# Import Indian stocks data into Qlib\n",
        "\n",
        "* Detailed information is in Qlib readme: https://github.com/microsoft/qlib/tree/main/scripts/data_collector/yahoo"
      ]
    },
    {
      "cell_type": "code",
      "metadata": {
        "id": "az2Cdd0Uy1Z8"
      },
      "source": [
        "################################# NOTE #################################\n",
        "#  Please be aware that if colab installs the latest numpy and pyqlib  #\n",
        "#  in this cell, users should RESTART the runtime in order to run the  #\n",
        "#  following cells successfully.                                       #\n",
        "########################################################################\n",
        "\n",
        "! pip install pyqlib yahooquery"
      ],
      "execution_count": 1,
      "outputs": []
    },
    {
      "cell_type": "code",
      "metadata": {
        "id": "c1v1mrlc8FfJ"
      },
      "source": [
        "# repo name changed to qlib_repo\n",
        "!git clone https://github.com/microsoft/qlib.git qlib_repo"
      ],
      "execution_count": null,
      "outputs": []
    },
    {
      "cell_type": "markdown",
      "metadata": {
        "id": "VD1r0r0q1h1N"
      },
      "source": [
        "## Collector YahooFinance data to qlib\n",
        "### collector YahooFinance data and dump into qlib format\n",
        "\n",
        "download data to csv: `python scripts/data_collector/yahoo/collector.py download_data`\n",
        "\n",
        "parameters:\n",
        "* source_dir: save the directory\n",
        "* interval: 1d or 1min, by default 1d\n",
        "due to the limitation of the YahooFinance API, only the last month's data is available in 1min\n",
        "\n",
        "* region: CN or US or IN, by default CN\n",
        "* delay: time.sleep(delay), by default 0.5\n",
        "* start: start datetime, by default \"2000-01-01\"; closed interval(including start)\n",
        "* end: end datetime, by default pd.Timestamp(datetime.datetime.now() + pd.Timedelta(days=1)); open interval(excluding end)\n",
        "* max_workers: get the number of concurrent symbols, it is not recommended to change this parameter in order to maintain the integrity of the symbol data, by default 1\n",
        "* check_data_length: check the number of rows per symbol, by default None\n",
        "if len(symbol_df) < check_data_length, it will be re-fetched, with the number of re-fetches coming from the max_collector_count parameter\n",
        "\n",
        "* max_collector_count: number of \"failed\" symbol retries, by default 2"
      ]
    },
    {
      "cell_type": "code",
      "metadata": {
        "id": "vPGrU_8T0pQB"
      },
      "source": [
        "# Get data from YahooQuery in CSV format\n",
        "\n",
        "!python qlib_repo/scripts/data_collector/yahoo/collector.py download_data --source_dir ~/.qlib/stock_data/source/in_1d --start 2020-01-01 --end 2020-12-31 --delay 1 --interval 1d --region IN"
      ],
      "execution_count": null,
      "outputs": []
    },
    {
      "cell_type": "markdown",
      "metadata": {
        "id": "6vKAsQ9J4ATd"
      },
      "source": [
        "## Normalize Yahooquery data\n",
        "\n",
        "normalize data: `python scripts/data_collector/yahoo/collector.py normalize_data`\n",
        "\n",
        "parameters:\n",
        "* source_dir: csv directory\n",
        "* normalize_dir: result directory\n",
        "* max_workers: number of concurrent, by default 1\n",
        "* interval: 1d or 1min, by default 1d\n",
        "if interval == 1min, qlib_data_1d_dir cannot be None\n",
        "\n",
        "* region: CN or US or IN, by default CN\n",
        "* date_field_name: column name identifying time in csv files, by default date\n",
        "* symbol_field_name: column name identifying symbol in csv files, by default symbol\n",
        "* end_date: if not None, normalize the last date saved (including end_date); if None, it will ignore this parameter; by default None\n"
      ]
    },
    {
      "cell_type": "code",
      "metadata": {
        "colab": {
          "base_uri": "https://localhost:8080/"
        },
        "id": "0ZXtFosL1SsB",
        "outputId": "bc1b4596-df9f-4da0-830a-682b881b74d1"
      },
      "source": [
        "!python qlib_repo/scripts/data_collector/yahoo/collector.py normalize_data --source_dir ~/.qlib/stock_data/source/in_1d --normalize_dir ~/.qlib/stock_data/source/in_1d_nor --region IN --interval 1d"
      ],
      "execution_count": 3,
      "outputs": [
        {
          "output_type": "stream",
          "text": [
            "\u001b[32m2021-08-26 14:52:02.347\u001b[0m | \u001b[1mINFO    \u001b[0m | \u001b[36mdata_collector.utils\u001b[0m:\u001b[36mget_calendar_list\u001b[0m:\u001b[36m64\u001b[0m - \u001b[1mget calendar list: IN_ALL......\u001b[0m\n",
            "\u001b[32m2021-08-26 14:52:02.504\u001b[0m | \u001b[1mINFO    \u001b[0m | \u001b[36mdata_collector.utils\u001b[0m:\u001b[36mget_calendar_list\u001b[0m:\u001b[36m100\u001b[0m - \u001b[1mend of get calendar list: IN_ALL.\u001b[0m\n",
            "\u001b[32m2021-08-26 14:52:02.504\u001b[0m | \u001b[1mINFO    \u001b[0m | \u001b[36mdata_collector.base\u001b[0m:\u001b[36mnormalize\u001b[0m:\u001b[36m301\u001b[0m - \u001b[1mnormalize data......\u001b[0m\n",
            "100% 25/25 [00:01<00:00, 18.49it/s]\n"
          ],
          "name": "stdout"
        }
      ]
    },
    {
      "cell_type": "markdown",
      "metadata": {
        "id": "zDsSAciK4kOp"
      },
      "source": [
        "## Convert normalized data to .bin format\n",
        "\n",
        "dump data: `python scripts/dump_bin.py dump_all`\n",
        "\n",
        "parameters:\n",
        "* csv_path: stock data path or directory, normalize result(normalize_dir)\n",
        "* qlib_dir: qlib(dump) data director\n",
        "* freq: transaction frequency, by default day\n",
        "* freq_map = {1d:day, 1mih: 1min}\n",
        "\n",
        "* max_workers: number of threads, by default 16\n",
        "* include_fields: dump fields, by default \"\"\n",
        "* exclude_fields: fields not dumped, by default `\"\"\"\n",
        "* dump_fields = include_fields if include_fields else set(symbol_df.columns) - set(exclude_fields) exclude_fields else symbol_df.columns\n",
        "\n",
        "* symbol_field_name: column name identifying symbol in csv files, by default symbol\n",
        "* date_field_name: column name identifying time in csv files, by default date"
      ]
    },
    {
      "cell_type": "code",
      "metadata": {
        "colab": {
          "base_uri": "https://localhost:8080/"
        },
        "id": "NPrkzxsV25hn",
        "outputId": "74bd813e-f3f3-4557-c120-46682892ae61"
      },
      "source": [
        "!python qlib_repo/scripts/dump_bin.py dump_all --csv_path ~/.qlib/stock_data/source/in_1d_nor --qlib_dir ~/.qlib/qlib_data/qlib_in_1d --freq day --exclude_fields date,symbol"
      ],
      "execution_count": 4,
      "outputs": [
        {
          "output_type": "stream",
          "text": [
            "\u001b[32m2021-08-26 14:52:05.177\u001b[0m | \u001b[1mINFO    \u001b[0m | \u001b[36m__main__\u001b[0m:\u001b[36m_get_all_date\u001b[0m:\u001b[36m266\u001b[0m - \u001b[1mstart get all date......\u001b[0m\n",
            "100% 25/25 [00:00<00:00, 64.04it/s]\n",
            "\u001b[32m2021-08-26 14:52:05.570\u001b[0m | \u001b[1mINFO    \u001b[0m | \u001b[36m__main__\u001b[0m:\u001b[36m_get_all_date\u001b[0m:\u001b[36m285\u001b[0m - \u001b[1mend of get all date.\n",
            "\u001b[0m\n",
            "\u001b[32m2021-08-26 14:52:05.571\u001b[0m | \u001b[1mINFO    \u001b[0m | \u001b[36m__main__\u001b[0m:\u001b[36m_dump_calendars\u001b[0m:\u001b[36m288\u001b[0m - \u001b[1mstart dump calendars......\u001b[0m\n",
            "\u001b[32m2021-08-26 14:52:05.574\u001b[0m | \u001b[1mINFO    \u001b[0m | \u001b[36m__main__\u001b[0m:\u001b[36m_dump_calendars\u001b[0m:\u001b[36m291\u001b[0m - \u001b[1mend of calendars dump.\n",
            "\u001b[0m\n",
            "\u001b[32m2021-08-26 14:52:05.574\u001b[0m | \u001b[1mINFO    \u001b[0m | \u001b[36m__main__\u001b[0m:\u001b[36m_dump_instruments\u001b[0m:\u001b[36m294\u001b[0m - \u001b[1mstart dump instruments......\u001b[0m\n",
            "\u001b[32m2021-08-26 14:52:05.575\u001b[0m | \u001b[1mINFO    \u001b[0m | \u001b[36m__main__\u001b[0m:\u001b[36m_dump_instruments\u001b[0m:\u001b[36m296\u001b[0m - \u001b[1mend of instruments dump.\n",
            "\u001b[0m\n",
            "\u001b[32m2021-08-26 14:52:05.575\u001b[0m | \u001b[1mINFO    \u001b[0m | \u001b[36m__main__\u001b[0m:\u001b[36m_dump_features\u001b[0m:\u001b[36m299\u001b[0m - \u001b[1mstart dump features......\u001b[0m\n",
            "100% 25/25 [00:00<00:00, 42.62it/s]\n",
            "\u001b[32m2021-08-26 14:52:06.162\u001b[0m | \u001b[1mINFO    \u001b[0m | \u001b[36m__main__\u001b[0m:\u001b[36m_dump_features\u001b[0m:\u001b[36m306\u001b[0m - \u001b[1mend of features dump.\n",
            "\u001b[0m\n"
          ],
          "name": "stdout"
        }
      ]
    }
  ]
}